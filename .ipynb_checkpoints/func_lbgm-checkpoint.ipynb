{
 "cells": [
  {
   "cell_type": "code",
   "execution_count": 4,
   "metadata": {},
   "outputs": [],
   "source": [
    "import lightgbm as lgbm\n",
    "from scipy import sparse as ssp\n",
    "from sklearn.model_selection import StratifiedKFold\n",
    "import numpy as np\n",
    "import pandas as pd\n",
    "from sklearn.preprocessing import LabelEncoder\n",
    "from sklearn.preprocessing import OneHotEncoder\n",
    "\n",
    "from sklearn.metrics import plot_confusion_matrix\n",
    "from sklearn.linear_model import LogisticRegression\n",
    "from sklearn.model_selection import train_test_split\n"
   ]
  },
  {
   "cell_type": "code",
   "execution_count": 5,
   "metadata": {},
   "outputs": [],
   "source": [
    "def Gini(y_true, y_pred):\n",
    "    # check and get number of samples\n",
    "    assert y_true.shape == y_pred.shape\n",
    "    n_samples = y_true.shape[0]\n",
    "\n",
    "    # sort rows on prediction column\n",
    "    # (from largest to smallest)\n",
    "    arr = np.array([y_true, y_pred]).transpose()\n",
    "    true_order = arr[arr[:, 0].argsort()][::-1, 0]\n",
    "    pred_order = arr[arr[:, 1].argsort()][::-1, 0]\n",
    "\n",
    "    # get Lorenz curves\n",
    "    L_true = np.cumsum(true_order) * 1. / np.sum(true_order)\n",
    "    L_pred = np.cumsum(pred_order) * 1. / np.sum(pred_order)\n",
    "    L_ones = np.linspace(1 / n_samples, 1, n_samples)\n",
    "\n",
    "    # get Gini coefficients (area between curves)\n",
    "    G_true = np.sum(L_ones - L_true)\n",
    "    G_pred = np.sum(L_ones - L_pred)\n",
    "\n",
    "    # normalize to true Gini coefficient\n",
    "    return G_pred * 1. / G_true"
   ]
  },
  {
   "cell_type": "code",
   "execution_count": 6,
   "metadata": {},
   "outputs": [],
   "source": [
    "def evalerror(preds, dtrain):\n",
    "    labels = dtrain.get_label()\n",
    "    return 'gini', Gini(labels, preds), True"
   ]
  },
  {
   "cell_type": "code",
   "execution_count": 24,
   "metadata": {},
   "outputs": [],
   "source": [
    "NFOLDS = 5\n",
    "kfold = StratifiedKFold(n_splits=NFOLDS, shuffle=True, random_state=218)\n",
    "cv_only = True\n",
    "save_cv = True\n",
    "full_train = False"
   ]
  },
  {
   "cell_type": "code",
   "execution_count": 8,
   "metadata": {},
   "outputs": [],
   "source": [
    "X = ssp.load_npz(\"./data/train.npz\")\n",
    "X_test = ssp.load_npz(\"./data/test.npz\")"
   ]
  },
  {
   "cell_type": "code",
   "execution_count": 9,
   "metadata": {},
   "outputs": [],
   "source": [
    "train = pd.read_csv('./data/train.csv')\n",
    "train_label = train['target']\n",
    "train_id = train['id']\n",
    "test = pd.read_csv('./data/test.csv')\n",
    "test_id = test['id']"
   ]
  },
  {
   "cell_type": "code",
   "execution_count": 56,
   "metadata": {},
   "outputs": [],
   "source": [
    "def cv_customer(X, train_label, k_fold, final_cv_train, final_cv_pred, cv_train, cv_pred, seed = None):\n",
    "    kf = k_fold.split(X, train_label)\n",
    "    \n",
    "    best_trees = []\n",
    "    fold_scores = []\n",
    "    \n",
    "    for i, (train_fold, validate) in enumerate(kf):\n",
    "        X_train, X_validate, label_train, label_validate = X[train_fold, :], X[validate, :], train_label[train_fold], train_label[validate]       \n",
    "    # define your model -------------------------------------- \n",
    "#         model = lgbm_(X_train, X_validate, label_train, label_validate,seed)\n",
    "        model = LogisticRegression(random_state=0, max_iter=100, penalty = 'l2', solver='liblinear',C=1, n_jobs=None).fit(X_train, label_train)\n",
    "    # --------------------------------------------------------\n",
    "\n",
    "#         cv_pred += model.predict(X_test, num_iteration=model.best_iteration)\n",
    "        cv_pred += model.predict(X_test)\n",
    "        cv_train[validate] += model.predict(X_validate)\n",
    "        \n",
    "    cv_pred /= NFOLDS\n",
    "    final_cv_train += cv_train\n",
    "    final_cv_pred += cv_pred    \n",
    "    \n",
    "    print (\"cv score:\", Gini(train_label, cv_train))\n",
    "    print( \"current score:\", Gini(train_label, final_cv_train / (s + 1.)), s+1)  # everage the in a loop  \n",
    "#         print(fold_scores)\n",
    "#     print(\"the best iteration is around: \", np.mean(best_trees)) # know \n",
    "#     x_score.append(Gini(train_label, cv_train))\n",
    "    print(\"-----------------------------------------------------------------------------------------------------\")\n",
    "    return final_cv_train, final_cv_pred\n",
    "      "
   ]
  },
  {
   "cell_type": "code",
   "execution_count": 57,
   "metadata": {},
   "outputs": [],
   "source": [
    "def lgbm_( X_train, X_validate, label_train, label_validate,seed):\n",
    "    learning_rate = 0.1\n",
    "    num_leaves = 15\n",
    "    min_data_in_leaf = 2000\n",
    "    feature_fraction = 0.6\n",
    "    num_boost_round = 1000 #M \n",
    "    tot_iter = 16\n",
    "    \n",
    "    params = {\"objective\": \"binary\",\n",
    "          \"boosting_type\": \"gbdt\",\n",
    "          \"learning_rate\": learning_rate,\n",
    "          \"num_leaves\": num_leaves,\n",
    "           \"max_bin\": 256,\n",
    "          \"feature_fraction\": feature_fraction,\n",
    "          \"verbosity\": 0,\n",
    "          \"drop_rate\": 0.1,\n",
    "          \"is_unbalance\": False,\n",
    "          \"max_drop\": 50,\n",
    "          \"min_child_samples\": 10,\n",
    "          \"min_child_weight\": 150,\n",
    "          \"min_split_gain\": 0,\n",
    "          \"subsample\": 0.9\n",
    "          }\n",
    "    params['seed'] = seed\n",
    "    \n",
    "    dtrain = lgbm.Dataset(X_train, label_train)\n",
    "    dvalid = lgbm.Dataset(X_validate, label_validate, reference=dtrain)\n",
    "    bst = lgbm.train(params, dtrain, num_boost_round, valid_sets=dvalid, feval=evalerror, verbose_eval=100,\n",
    "                    early_stopping_rounds=100)\n",
    "    best_trees.append(bst.best_iteration) # the index of iteration  \n",
    "    \n",
    "    return bst\n",
    "    \n",
    "    \n",
    "    \n",
    "    \n",
    "    "
   ]
  },
  {
   "cell_type": "code",
   "execution_count": 58,
   "metadata": {},
   "outputs": [],
   "source": [
    "def model_aver (X, train_label,test_id, k_fold, tot_iter):\n",
    "    x_score = []\n",
    "    cv_train = np.zeros(len(train_label))\n",
    "    cv_pred = np.zeros(len(test_id))\n",
    "    final_cv_train = np.zeros(len(train_label))\n",
    "    final_cv_pred = np.zeros(len(test_id))\n",
    "    for s in range(tot_iter):\n",
    "        cv_train = np.zeros(len(train_label))\n",
    "        cv_pred = np.zeros(len(test_id))\n",
    "#         seed = s \n",
    "        final_cv_train, final_cv_pred = cv_customer(X, train_label, k_fold, final_cv_train, final_cv_pred,cv_train, cv_pred,seed=s)\n",
    "    return final_cv_train, final_cv_pred\n",
    "    "
   ]
  },
  {
   "cell_type": "code",
   "execution_count": 59,
   "metadata": {},
   "outputs": [
    {
     "name": "stdout",
     "output_type": "stream",
     "text": [
      "cv score: -0.0014589394498542739\n",
      "current score: -0.0014589394498542739 1\n",
      "-----------------------------------------------------------------------------------------------------\n",
      "cv score: -0.0014589394498542739\n",
      "current score: -0.0014589394498542739 1\n",
      "-----------------------------------------------------------------------------------------------------\n"
     ]
    }
   ],
   "source": [
    "tot_iteration = 2\n",
    "final_cv_train, final_cv_pred = model_aver(X, train_label,test_id, kfold, tot_iteration)"
   ]
  },
  {
   "cell_type": "code",
   "execution_count": 60,
   "metadata": {},
   "outputs": [],
   "source": [
    "pd.DataFrame({'id': test_id, 'target': final_cv_pred / tot_iter}).to_csv('./model/logist_pred.csv', index=False)\n",
    "pd.DataFrame({'id': train_id, 'target': final_cv_train / tot_iter}).to_csv('./model/logist_train.csv', index=False)\n"
   ]
  },
  {
   "cell_type": "code",
   "execution_count": null,
   "metadata": {},
   "outputs": [],
   "source": []
  },
  {
   "cell_type": "code",
   "execution_count": null,
   "metadata": {},
   "outputs": [],
   "source": []
  },
  {
   "cell_type": "markdown",
   "metadata": {},
   "source": [
    "# logistic"
   ]
  },
  {
   "cell_type": "code",
   "execution_count": 61,
   "metadata": {},
   "outputs": [],
   "source": [
    "x_train, x_test, y_train, y_test = train_test_split(X, train_label,shuffle=True,random_state=2)"
   ]
  },
  {
   "cell_type": "code",
   "execution_count": null,
   "metadata": {},
   "outputs": [],
   "source": []
  },
  {
   "cell_type": "code",
   "execution_count": null,
   "metadata": {},
   "outputs": [],
   "source": []
  },
  {
   "cell_type": "code",
   "execution_count": null,
   "metadata": {},
   "outputs": [],
   "source": []
  },
  {
   "cell_type": "code",
   "execution_count": null,
   "metadata": {},
   "outputs": [],
   "source": []
  },
  {
   "cell_type": "code",
   "execution_count": 62,
   "metadata": {},
   "outputs": [
    {
     "data": {
      "text/plain": [
       "<sklearn.metrics._plot.confusion_matrix.ConfusionMatrixDisplay at 0x2143c571160>"
      ]
     },
     "execution_count": 62,
     "metadata": {},
     "output_type": "execute_result"
    },
    {
     "data": {
      "image/png": "[encoded data removed]",
      "text/plain": [
       "<Figure size 432x288 with 2 Axes>"
      ]
     },
     "metadata": {
      "needs_background": "light"
     },
     "output_type": "display_data"
    }
   ],
   "source": [
    "lr_clf = LogisticRegression(random_state=0, max_iter=100, penalty = 'l2', solver='liblinear',C=1, n_jobs=None).fit(x_train, y_train)\n",
    "plot_confusion_matrix(estimator = lr_clf, X=x_test, y_true = y_test,normalize='true')"
   ]
  },
  {
   "cell_type": "code",
   "execution_count": 63,
   "metadata": {},
   "outputs": [],
   "source": [
    "predict = lr_clf.predict_proba(X_test)\n"
   ]
  },
  {
   "cell_type": "code",
   "execution_count": 64,
   "metadata": {},
   "outputs": [
    {
     "data": {
      "text/plain": [
       "array([[0.97437915, 0.02562085],\n",
       "       [0.96879601, 0.03120399],\n",
       "       [0.97708481, 0.02291519],\n",
       "       ...,\n",
       "       [0.96903146, 0.03096854],\n",
       "       [0.9581704 , 0.0418296 ],\n",
       "       [0.96168693, 0.03831307]])"
      ]
     },
     "execution_count": 64,
     "metadata": {},
     "output_type": "execute_result"
    }
   ],
   "source": [
    "predict"
   ]
  },
  {
   "cell_type": "code",
   "execution_count": null,
   "metadata": {},
   "outputs": [],
   "source": []
  }
 ],
 "metadata": {
  "kernelspec": {
   "display_name": "Python 3",
   "language": "python",
   "name": "python3"
  },
  "language_info": {
   "codemirror_mode": {
    "name": "ipython",
    "version": 3
   },
   "file_extension": ".py",
   "mimetype": "text/x-python",
   "name": "python",
   "nbconvert_exporter": "python",
   "pygments_lexer": "ipython3",
   "version": "3.8.5"
  }
 },
 "nbformat": 4,
 "nbformat_minor": 4
}
